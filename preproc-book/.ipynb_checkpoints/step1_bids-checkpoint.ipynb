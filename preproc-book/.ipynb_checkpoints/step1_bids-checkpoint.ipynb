{
 "cells": [
  {
   "cell_type": "markdown",
   "metadata": {},
   "source": [
    "# Brain Imaging Data Structure (BIDS)   \n",
    "\n",
    "![](https://upload.wikimedia.org/wikipedia/commons/d/de/BIDS_Logo.png)\n"
   ]
  },
  {
   "cell_type": "markdown",
   "metadata": {},
   "source": [
    "## What is BIDS?  \n",
    "\n",
    "The Brain Imaging Data Structure (BIDS) is a specification for neuroimaging data. The data results can be very complicated and it can be arranged in many ways. BIDS is a standard that arose to address this problem. It is simply a specification for structuring neuroimaging data into a file format that is easily readible and understood, so that researchers and collaborators may easily share and contribute their data amongst the community.   \n",
    "\n",
    "\n",
    "\n",
    "![](bids_tree.png)"
   ]
  },
  {
   "cell_type": "markdown",
   "metadata": {},
   "source": [
    "Various tool exist to convert your data into BIDS. Here we will go over using the [heudiconv](https://heudiconv.readthedocs.io/en/latest/) tool, and then how to use [Singularity](https://sylabs.io/singularity/) to run this process on a high performance computing cluster (HPCC)."
   ]
  },
  {
   "cell_type": "code",
   "execution_count": null,
   "metadata": {},
   "outputs": [],
   "source": []
  },
  {
   "cell_type": "code",
   "execution_count": null,
   "metadata": {},
   "outputs": [],
   "source": []
  },
  {
   "cell_type": "code",
   "execution_count": null,
   "metadata": {},
   "outputs": [],
   "source": []
  },
  {
   "cell_type": "markdown",
   "metadata": {},
   "source": [
    "---"
   ]
  },
  {
   "cell_type": "markdown",
   "metadata": {},
   "source": [
    "---"
   ]
  }
 ],
 "metadata": {
  "kernelspec": {
   "display_name": "Python 3",
   "language": "python",
   "name": "python3"
  },
  "language_info": {
   "codemirror_mode": {
    "name": "ipython",
    "version": 3
   },
   "file_extension": ".py",
   "mimetype": "text/x-python",
   "name": "python",
   "nbconvert_exporter": "python",
   "pygments_lexer": "ipython3",
   "version": "3.9.6"
  }
 },
 "nbformat": 4,
 "nbformat_minor": 4
}
