{
 "cells": [
  {
   "cell_type": "markdown",
   "metadata": {},
   "source": [
    "# Brain Imaging Data Structure (BIDS)   \n",
    "\n",
    "![](https://upload.wikimedia.org/wikipedia/commons/d/de/BIDS_Logo.png)\n"
   ]
  },
  {
   "cell_type": "markdown",
   "metadata": {},
   "source": [
    "## What is BIDS?  \n",
    "\n",
    "The Brain Imaging Data Structure (BIDS) is a specification for neuroimaging data. The data results can be very complicated and it can be arranged in many ways. BIDS is a standard that arose to address this problem. It is simply a specification for structuring neuroimaging data into a file format that is easily readible and understood, so that researchers and collaborators may easily share and contribute their data amongst the community.   \n",
    "\n",
    "<br>\n",
    "<br>\n",
    "Various tool exist to convert your data into BIDS. Here we will go over using the [heudiconv](https://heudiconv.readthedocs.io/en/latest/) tool with a [Singularity](https://sylabs.io/singularity/) image to convert our neuroimaging data on a performance computing cluster (HPCC).\n",
    "<br>\n",
    "<br>  \n",
    "\n",
    "## Heudiconv   \n",
    "\n",
    "> heudiconv is a flexible DICOM converter for organizing brain imaging data into structured directory layouts. [[documentation]](https://heudiconv.readthedocs.io/en/latest/)  \n",
    "\n",
    "The most important aspect needed to run the tool successfully is the **heuristic file**. This file controls how the data is interpreted. To view in depth details view the [documentation](https://heudiconv.readthedocs.io/en/latest/heuristics.html).   \n",
    "  \n",
    "Essentially the heuristic file is a python `(.py)` file that requires a *infotodict* function to define the conversion outputs and specify the criteria for output. \n",
    "  \n",
    "Run a <u>drypass</u> on our data:\n",
    "    \n",
    " `heudiconv -d Data/ChocolateData/{subject}/{session}/Dicoms/dicoms/*/*dcm -s sub-001 -ss wave2 -f convertall.py -c none -o /output/EricData/pre-bids_files`  \n",
    " \n",
    "Run the heudiconv conversion:   \n",
    " `heudiconv -d Data/ChocolateData/{subject}/{session}/Dicoms/dicoms/*/*dcm -s sub-001 -ss wave2 -f eric_conversion.py -c dcm2niix -o output/EricData/ses-wave2`    \n",
    " \n",
    "Run the heudiconv conversion with the Singularity image:\n",
    "`singularity exec -B /:/test /projects/niblab/bids_projects/Singularity_Containers/heudiconv.simg heudiconv -d /test/projects/niblab/bids_projects/raw_data/continuing_studies/BBx/ses-{session}/{subject}/*dcm -f /test/projects/niblab/bids_projects/Heuristic_Files/test_heuristic.py -c dcm2niix -o  /test/projects/niblab/bids_projects/raw_data/continuing_studies/BBx/test -s sub-065 -ss 1 `  \n",
    "  \n",
    "<br>\n",
    "<br>\n",
    "\n",
    "> Output Example Subject  \n",
    "<br>\n",
    "![](bids_tree.png)"
   ]
  },
  {
   "cell_type": "markdown",
   "metadata": {},
   "source": [
    "---"
   ]
  }
 ],
 "metadata": {
  "kernelspec": {
   "display_name": "Python 3",
   "language": "python",
   "name": "python3"
  },
  "language_info": {
   "codemirror_mode": {
    "name": "ipython",
    "version": 3
   },
   "file_extension": ".py",
   "mimetype": "text/x-python",
   "name": "python",
   "nbconvert_exporter": "python",
   "pygments_lexer": "ipython3",
   "version": "3.9.6"
  }
 },
 "nbformat": 4,
 "nbformat_minor": 4
}
