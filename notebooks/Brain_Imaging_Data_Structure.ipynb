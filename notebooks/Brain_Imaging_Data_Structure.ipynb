{
 "cells": [
  {
   "cell_type": "markdown",
   "id": "c74b0cce-3e34-4069-849e-10a971f4b02a",
   "metadata": {},
   "source": [
    "# Brain Imaging Data Structure (BIDS)  \n",
    "To translate the raw dicoms into a BIDS format we use the Heudiconv tool through a Singularity image. This software tool requires we have the raw dicom folders and a heuristic file that formats the tasks.   \n",
    "  \n",
    "Inside the heuristic file we have to make a key to recognize our data. This will vary by dataset and the Heudiconv tool provides us a unique way to view this data, if we don't have access to it already.  "
   ]
  },
  {
   "cell_type": "code",
   "execution_count": null,
   "id": "9606e112-eade-4970-98db-7d4da9a32ef8",
   "metadata": {},
   "outputs": [],
   "source": []
  },
  {
   "cell_type": "markdown",
   "id": "90c69022-5563-4509-9f34-9eaa5c6d566a",
   "metadata": {},
   "source": [
    "---"
   ]
  }
 ],
 "metadata": {
  "kernelspec": {
   "display_name": "Python 3",
   "language": "python",
   "name": "python3"
  },
  "language_info": {
   "codemirror_mode": {
    "name": "ipython",
    "version": 3
   },
   "file_extension": ".py",
   "mimetype": "text/x-python",
   "name": "python",
   "nbconvert_exporter": "python",
   "pygments_lexer": "ipython3",
   "version": "3.8.10"
  }
 },
 "nbformat": 4,
 "nbformat_minor": 5
}
