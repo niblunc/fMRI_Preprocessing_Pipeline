{
 "cells": [
  {
   "cell_type": "markdown",
   "metadata": {},
   "source": [
    "---\n",
    "# Skull Strip with FSL `bet`"
   ]
  },
  {
   "cell_type": "code",
   "execution_count": 1,
   "metadata": {},
   "outputs": [],
   "source": [
    "import os, glob\n",
    "import subprocess as sp\n",
    "from shutil import copytree\n",
    "from multiprocessing import Pool\n"
   ]
  },
  {
   "cell_type": "code",
   "execution_count": 3,
   "metadata": {},
   "outputs": [],
   "source": [
    "def brainX(func):\n",
    "    session=func.split('/')[-1].split('.')[0].split(\"_\")[1]\n",
    "    func_outpath=os.path.join(data_path, 'preprocessed/subs_trimmed',\n",
    "                              sub, session, \"func\")\n",
    "    \n",
    "    if not os.path.exists(func_outpath):\n",
    "        os.makedirs(func_outpath)\n",
    "\n",
    "    filename = func.split('/')[-1].split('.')[0]\n",
    "    outfile = os.path.join(func_outpath, filename)\n",
    "\n",
    "    if os.path.exists(outfile+\"_brain.nii.gz\"):\n",
    "        pass\n",
    "    else:\n",
    "        bet_cmd = ['bet' ,'%s'%func,'%s_brain.nii.gz'%outfile, '-F']\n",
    "        print('[INFO] ', ' '.join(bet_cmd))        \n",
    "        process=sp.run(' '.join(bet_cmd),  shell=True, check=True,\n",
    "                   stdout=sp.PIPE, universal_newlines=True)\n",
    "        output = process.stdout\n",
    "\n",
    "    \n",
    "    \n",
    "\n",
    "    \n",
    "def bet_setup(subject, session, fmriprep_path):\n",
    "    func_outpath=os.path.join(data_path, 'preprocessed/subs_trimmed',\n",
    "                              sub, session, \"func\")\n",
    "    if not os.path.exists(func_outpath):\n",
    "            os.makedirs(func_outpath)\n",
    "    #print('[INFO] ', func_outpath)\n",
    "    \n",
    "    \n",
    "    # all runs\n",
    "    funcs=glob.glob(os.path.join(fmriprep_path,\n",
    "                                 sub, session, \"func/*task-training*-preproc_bold.nii.gz\"))\n",
    "\n",
    "    #print(len(funcs))\n",
    "    funcs.sort()  \n",
    "\n",
    "    agents=5\n",
    "    chunksize=4\n",
    "    with Pool(processes=agents) as pool:\n",
    "        result = pool.map(brainX, funcs)\n",
    "        \n",
    "\n"
   ]
  },
  {
   "cell_type": "code",
   "execution_count": 4,
   "metadata": {},
   "outputs": [],
   "source": [
    "fmriprep_path='/projects/niblab/experiments/bbx/data/fmriprep/fmriprep_trimmed-20.2.0'\n",
    "fmriprep_trimmed=glob.glob(os.path.join('/projects/niblab/experiments/bbx/data/fmriprep/fmriprep_trimmed-20.2.0', \n",
    "                    \"sub-*\"))\n",
    "\n",
    "\n",
    "fmriprep_subs=[x.split(\"/\")[-1] for x in fmriprep_trimmed if '.html' not in x]\n",
    "fmriprep_subs.sort()\n",
    "data_path='/projects/niblab/experiments/bbx/data'"
   ]
  },
  {
   "cell_type": "code",
   "execution_count": 5,
   "metadata": {},
   "outputs": [
    {
     "data": {
      "text/plain": [
       "['sub-167', 'sub-168', 'sub-169', 'sub-170']"
      ]
     },
     "execution_count": 5,
     "metadata": {},
     "output_type": "execute_result"
    }
   ],
   "source": [
    "fmriprep_subs[-4:]"
   ]
  },
  {
   "cell_type": "code",
   "execution_count": 7,
   "metadata": {},
   "outputs": [
    {
     "name": "stdout",
     "output_type": "stream",
     "text": [
      "[INFO] [INFO] [INFO]  [INFO]  bet /projects/niblab/experiments/bbx/data/fmriprep/fmriprep_trimmed-20.2.0/sub-011/ses-2/func/sub-011_ses-2_task-training_run-2_space-MNI152NLin2009cAsym_desc-preproc_bold.nii.gz /projects/niblab/experiments/bbx/data/preprocessed/subs_trimmed/sub-011/ses-2/func/sub-011_ses-2_task-training_run-2_space-MNI152NLin2009cAsym_desc-preproc_bold_brain.nii.gz -F bet /projects/niblab/experiments/bbx/data/fmriprep/fmriprep_trimmed-20.2.0/sub-011/ses-2/func/sub-011_ses-2_task-training_run-1_space-MNI152NLin2009cAsym_desc-preproc_bold.nii.gz /projects/niblab/experiments/bbx/data/preprocessed/subs_trimmed/sub-011/ses-2/func/sub-011_ses-2_task-training_run-1_space-MNI152NLin2009cAsym_desc-preproc_bold_brain.nii.gz -F\n",
      " bet /projects/niblab/experiments/bbx/data/fmriprep/fmriprep_trimmed-20.2.0/sub-011/ses-2/func/sub-011_ses-2_task-training_run-3_space-MNI152NLin2009cAsym_desc-preproc_bold.nii.gz /projects/niblab/experiments/bbx/data/preprocessed/subs_trimmed/sub-011/ses-2/func/sub-011_ses-2_task-training_run-3_space-MNI152NLin2009cAsym_desc-preproc_bold_brain.nii.gz -Fbet /projects/niblab/experiments/bbx/data/fmriprep/fmriprep_trimmed-20.2.0/sub-011/ses-2/func/sub-011_ses-2_task-training_run-4_space-MNI152NLin2009cAsym_desc-preproc_bold.nii.gz /projects/niblab/experiments/bbx/data/preprocessed/subs_trimmed/sub-011/ses-2/func/sub-011_ses-2_task-training_run-4_space-MNI152NLin2009cAsym_desc-preproc_bold_brain.nii.gz -F\n",
      "\n",
      "\n",
      "[INFO]  bet /projects/niblab/experiments/bbx/data/fmriprep/fmriprep_trimmed-20.2.0/sub-013/ses-2/func/sub-013_ses-2_task-training_run-1_space-MNI152NLin2009cAsym_desc-preproc_bold.nii.gz /projects/niblab/experiments/bbx/data/preprocessed/subs_trimmed/sub-013/ses-2/func/sub-013_ses-2_task-training_run-1_space-MNI152NLin2009cAsym_desc-preproc_bold_brain.nii.gz -F\n",
      "[INFO] [INFO]  [INFO]  bet /projects/niblab/experiments/bbx/data/fmriprep/fmriprep_trimmed-20.2.0/sub-013/ses-2/func/sub-013_ses-2_task-training_run-2_space-MNI152NLin2009cAsym_desc-preproc_bold.nii.gz /projects/niblab/experiments/bbx/data/preprocessed/subs_trimmed/sub-013/ses-2/func/sub-013_ses-2_task-training_run-2_space-MNI152NLin2009cAsym_desc-preproc_bold_brain.nii.gz -Fbet /projects/niblab/experiments/bbx/data/fmriprep/fmriprep_trimmed-20.2.0/sub-013/ses-2/func/sub-013_ses-2_task-training_run-3_space-MNI152NLin2009cAsym_desc-preproc_bold.nii.gz /projects/niblab/experiments/bbx/data/preprocessed/subs_trimmed/sub-013/ses-2/func/sub-013_ses-2_task-training_run-3_space-MNI152NLin2009cAsym_desc-preproc_bold_brain.nii.gz -F\n",
      " bet /projects/niblab/experiments/bbx/data/fmriprep/fmriprep_trimmed-20.2.0/sub-013/ses-2/func/sub-013_ses-2_task-training_run-4_space-MNI152NLin2009cAsym_desc-preproc_bold.nii.gz /projects/niblab/experiments/bbx/data/preprocessed/subs_trimmed/sub-013/ses-2/func/sub-013_ses-2_task-training_run-4_space-MNI152NLin2009cAsym_desc-preproc_bold_brain.nii.gz -F\n",
      "\n",
      "[INFO] [INFO] [INFO] [INFO]  bet /projects/niblab/experiments/bbx/data/fmriprep/fmriprep_trimmed-20.2.0/sub-138/ses-2/func/sub-138_ses-2_task-training_run-2_space-MNI152NLin2009cAsym_desc-preproc_bold.nii.gz /projects/niblab/experiments/bbx/data/preprocessed/subs_trimmed/sub-138/ses-2/func/sub-138_ses-2_task-training_run-2_space-MNI152NLin2009cAsym_desc-preproc_bold_brain.nii.gz -F  \n",
      "bet /projects/niblab/experiments/bbx/data/fmriprep/fmriprep_trimmed-20.2.0/sub-138/ses-2/func/sub-138_ses-2_task-training_run-1_space-MNI152NLin2009cAsym_desc-preproc_bold.nii.gz /projects/niblab/experiments/bbx/data/preprocessed/subs_trimmed/sub-138/ses-2/func/sub-138_ses-2_task-training_run-1_space-MNI152NLin2009cAsym_desc-preproc_bold_brain.nii.gz -Fbet /projects/niblab/experiments/bbx/data/fmriprep/fmriprep_trimmed-20.2.0/sub-138/ses-2/func/sub-138_ses-2_task-training_run-4_space-MNI152NLin2009cAsym_desc-preproc_bold.nii.gz /projects/niblab/experiments/bbx/data/preprocessed/subs_trimmed/sub-138/ses-2/func/sub-138_ses-2_task-training_run-4_space-MNI152NLin2009cAsym_desc-preproc_bold_brain.nii.gz -F\n",
      "\n",
      " bet /projects/niblab/experiments/bbx/data/fmriprep/fmriprep_trimmed-20.2.0/sub-138/ses-2/func/sub-138_ses-2_task-training_run-3_space-MNI152NLin2009cAsym_desc-preproc_bold.nii.gz /projects/niblab/experiments/bbx/data/preprocessed/subs_trimmed/sub-138/ses-2/func/sub-138_ses-2_task-training_run-3_space-MNI152NLin2009cAsym_desc-preproc_bold_brain.nii.gz -F\n",
      "[INFO] completed brain extraction.\n"
     ]
    }
   ],
   "source": [
    "submission_list=fmriprep_subs\n",
    "session='ses-2'\n",
    "for sub in submission_list:\n",
    "    bet_setup(sub, session, fmriprep_path)\n",
    "print(\"[INFO] completed brain extraction.\")\n"
   ]
  },
  {
   "cell_type": "markdown",
   "metadata": {},
   "source": [
    "---"
   ]
  },
  {
   "cell_type": "markdown",
   "metadata": {},
   "source": [
    "## References:\n",
    "FSL_BET"
   ]
  },
  {
   "cell_type": "markdown",
   "metadata": {},
   "source": [
    "---"
   ]
  }
 ],
 "metadata": {
  "kernelspec": {
   "display_name": "Python 3",
   "language": "python",
   "name": "python3"
  },
  "language_info": {
   "codemirror_mode": {
    "name": "ipython",
    "version": 3
   },
   "file_extension": ".py",
   "mimetype": "text/x-python",
   "name": "python",
   "nbconvert_exporter": "python",
   "pygments_lexer": "ipython3",
   "version": "3.7.8"
  }
 },
 "nbformat": 4,
 "nbformat_minor": 4
}
