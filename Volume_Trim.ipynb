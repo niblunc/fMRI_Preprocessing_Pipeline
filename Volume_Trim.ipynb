{
 "cells": [
  {
   "cell_type": "markdown",
   "id": "d74ad023-ce7c-40fb-808a-f64a7cde5599",
   "metadata": {},
   "source": [
    "# Volume Trim  \n",
    "\n",
    "For our fMRI brain scans we have cut the 4 first volumes from the scans. For each study and task this might vary, and is entirely up to the researcher. Below is code to cut the volumes using FSLs `fslroi` command. Unique variables will need to be adjusted for your specific paths.  \n",
    "\n",
    "**Note:** if the command doesn't work, *check a scan volume with `fslnvols <bold_img>`,* you may need to adjust permissions.  \n",
    "--using `chmod -R 775 [path_to_folders]` is generally safe, but check your system and admin privileges.\n",
    "\n"
   ]
  },
  {
   "cell_type": "code",
   "execution_count": null,
   "id": "3b15cec0-1e8a-43a2-99a9-0f37ef58961e",
   "metadata": {},
   "outputs": [],
   "source": [
    "# Packages need to run the command\n",
    "import glob, os  \n",
    "import subprocess as sp  \n",
    "from multiprocessing import Pool"
   ]
  },
  {
   "cell_type": "markdown",
   "id": "31f6cf93-eae6-4781-b689-72f94caaf079",
   "metadata": {},
   "source": [
    "This is the volume trimming function.  \n",
    "Be aware, the function assumes you are pulling from the `func/` folders from a standard BIDS dataset.  "
   ]
  },
  {
   "cell_type": "code",
   "execution_count": null,
   "id": "e83209e2-6728-4737-982b-43e8849f3eaa",
   "metadata": {},
   "outputs": [],
   "source": [
    "def volume_trim(func, logfile, target_vol, initial_vol,cut_vol):\n",
    "    \"\"\"\n",
    "    # FSL Volume Trimming \n",
    "    \"\"\"\n",
    "    func_outpath=os.path.join(sub_folder, '%s/func'%(session))\n",
    "    filename=func.split(\"/\")[-1].split(\".\")[0]\n",
    "    fslroi_output=os.path.join(func_outpath, filename+\".nii.gz\")\n",
    "    fslroi_input=func\n",
    "    logf = open(logfile, \"a+\")\n",
    "    \n",
    "    fslnvols_cmd=['fslnvols', fslroi_input, '&']\n",
    "    #print(' '.join(fslnvols_cmd)) # check command\n",
    "    \n",
    "    process=sp.run(' '.join(fslnvols_cmd),  shell=True, check=True, stdout=sp.PIPE, universal_newlines=True)\n",
    "    vol = process.stdout\n",
    "    \n",
    "    if target_vol in vol:\n",
    "        pass\n",
    "    if initial_vol in vol:\n",
    "        fslroi_cmd=['fslroi', fslroi_input, fslroi_output, cut_vol, '-1']\n",
    "        print(' '.join(fslroi_cmd))\n",
    "    \n",
    "        try:\n",
    "            process=sp.run(' '.join(fslroi_cmd),  shell=True, check=True, stdout=sp.PIPE, universal_newlines=True)\n",
    "            output = process.stdout\n",
    "        except Exception as e:\n",
    "            logf.write(\"Failed to trim file {0}: {1}\\n\".format(str(func), str(e)))\n",
    "    #print('[INFO] ', output)\n",
    "    \n",
    "    "
   ]
  },
  {
   "cell_type": "code",
   "execution_count": null,
   "id": "f605a1b3-f3ed-4b75-b4e0-43ad600a8735",
   "metadata": {},
   "outputs": [],
   "source": [
    "logfile=\"/projects/niblab/experiments/chocolate_milkshake/code/trim_data.log\""
   ]
  }
 ],
 "metadata": {
  "kernelspec": {
   "display_name": "Python 3",
   "language": "python",
   "name": "python3"
  },
  "language_info": {
   "codemirror_mode": {
    "name": "ipython",
    "version": 3
   },
   "file_extension": ".py",
   "mimetype": "text/x-python",
   "name": "python",
   "nbconvert_exporter": "python",
   "pygments_lexer": "ipython3",
   "version": "3.8.10"
  }
 },
 "nbformat": 4,
 "nbformat_minor": 5
}
